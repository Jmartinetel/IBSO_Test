{
 "cells": [
  {
   "cell_type": "markdown",
   "metadata": {},
   "source": [
    "### Prueba 3\n",
    "\n",
    "##### Instrucciones: Con las preguntas mostradas, trata de desarrollar los códigos para responder el mayor número de ejercicios usando Python.\n",
    "##### Entregable: Códigos en Python mostrando los resultados de los ejercicios.\n"
   ]
  },
  {
   "cell_type": "markdown",
   "metadata": {},
   "source": [
    "## Ejercicio 1"
   ]
  },
  {
   "cell_type": "code",
   "execution_count": 1,
   "metadata": {},
   "outputs": [],
   "source": [
    "import numpy as np\n",
    "import matplotlib.pyplot as plt\n"
   ]
  },
  {
   "cell_type": "code",
   "execution_count": 2,
   "metadata": {},
   "outputs": [],
   "source": [
    "\n",
    "## Vamos a generar la temp aleatoriamente, hay que definir semilla\n",
    "np.random.seed(2004)\n",
    "\n",
    "## Generamos el diccionario\n",
    "datos = {\n",
    "    \"CDMX\": np.random.randint(20, 33, size=7).tolist(),\n",
    "    \"Monterrey\": np.random.randint(20, 36, size=7).tolist(),\n",
    "    \"Guadalajara\": np.random.randint(20, 35, size=7).tolist(),\n",
    "    \"Merida\": np.random.randint(20, 38, size=7).tolist(),\n",
    "}\n"
   ]
  },
  {
   "cell_type": "code",
   "execution_count": 5,
   "metadata": {},
   "outputs": [],
   "source": [
    "\n",
    "\n",
    "## Hacemos todos los calculos correspondientes:\n",
    "resultados = {}\n",
    "for ciudad, temperaturas in datos.items():\n",
    "    promedio = sum(temperaturas) / len(temperaturas)\n",
    "    maximo = max(temperaturas)\n",
    "    minimao = min(temperaturas)\n",
    "    resultados[ciudad] = {\n",
    "        \"Promedio\": promedio,\n",
    "        \"Maximo\": maximo,\n",
    "        \"Minimo\": minimao\n",
    "    }\n"
   ]
  },
  {
   "cell_type": "code",
   "execution_count": 6,
   "metadata": {},
   "outputs": [
    {
     "data": {
      "text/plain": [
       "{'CDMX': {'Promedio': 27.0, 'Maximo': 31, 'Minimo': 21},\n",
       " 'Monterrey': {'Promedio': 25.142857142857142, 'Maximo': 30, 'Minimo': 22},\n",
       " 'Guadalajara': {'Promedio': 27.0, 'Maximo': 33, 'Minimo': 22},\n",
       " 'Merida': {'Promedio': 26.0, 'Maximo': 37, 'Minimo': 20}}"
      ]
     },
     "execution_count": 6,
     "metadata": {},
     "output_type": "execute_result"
    }
   ],
   "source": [
    "resultados"
   ]
  },
  {
   "cell_type": "code",
   "execution_count": null,
   "metadata": {},
   "outputs": [],
   "source": []
  },
  {
   "cell_type": "markdown",
   "metadata": {},
   "source": [
    "## Ejercicio 2"
   ]
  },
  {
   "cell_type": "markdown",
   "metadata": {},
   "source": []
  },
  {
   "cell_type": "code",
   "execution_count": 7,
   "metadata": {},
   "outputs": [],
   "source": [
    "def calculador_palabras(input):\n",
    "\n",
    "    ## Enumeramos cadad una de las letras del script\n",
    "    ### ocuapermos la funcion ord() que ya nos da el número de cada letra ordenada\n",
    "    for index, str in enumerate(input):\n",
    "        if str.isdigit():\n",
    "            return f\"Cambia el número en la posición {index} por una letra minúscula\"\n",
    "        elif str.isupper():\n",
    "            return f\"Cambia a minúscula la letra '{str}' en la posición {index}.\"\n",
    "    suma = sum(ord(str) - ord('a') + 1 for str in input if str.isalpha())\n",
    "\n",
    "    return f\"La suma total de la palabra '{input}' es: {suma}\"\n",
    "\n",
    "\n",
    "\n"
   ]
  },
  {
   "cell_type": "code",
   "execution_count": 8,
   "metadata": {},
   "outputs": [
    {
     "data": {
      "text/plain": [
       "\"La suma total de la palabra 'mexico' es: 69\""
      ]
     },
     "execution_count": 8,
     "metadata": {},
     "output_type": "execute_result"
    }
   ],
   "source": [
    "## Prueba\n",
    "palabra = \"mexico\"\n",
    "resultado = calculador_palabras(palabra)\n",
    "resultado"
   ]
  },
  {
   "cell_type": "code",
   "execution_count": null,
   "metadata": {},
   "outputs": [],
   "source": []
  },
  {
   "cell_type": "code",
   "execution_count": null,
   "metadata": {},
   "outputs": [],
   "source": []
  }
 ],
 "metadata": {
  "kernelspec": {
   "display_name": ".venv",
   "language": "python",
   "name": "python3"
  },
  "language_info": {
   "codemirror_mode": {
    "name": "ipython",
    "version": 3
   },
   "file_extension": ".py",
   "mimetype": "text/x-python",
   "name": "python",
   "nbconvert_exporter": "python",
   "pygments_lexer": "ipython3",
   "version": "3.12.0"
  }
 },
 "nbformat": 4,
 "nbformat_minor": 2
}
