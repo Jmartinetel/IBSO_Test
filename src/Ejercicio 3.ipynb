{
 "cells": [
  {
   "cell_type": "markdown",
   "metadata": {},
   "source": [
    "### Prueba 3\n",
    "\n",
    "##### Instrucciones: Con las preguntas mostradas, trata de desarrollar los códigos para responder el mayor número de ejercicios usando Python.\n",
    "##### Entregable: Códigos en Python mostrando los resultados de los ejercicios.\n"
   ]
  },
  {
   "cell_type": "markdown",
   "metadata": {},
   "source": [
    "## Ejercicio 1"
   ]
  },
  {
   "cell_type": "code",
   "execution_count": 2,
   "metadata": {},
   "outputs": [],
   "source": [
    "import numpy as np\n",
    "import matplotlib.pyplot as plt\n"
   ]
  },
  {
   "cell_type": "code",
   "execution_count": 4,
   "metadata": {},
   "outputs": [],
   "source": [
    "\n",
    "# Initialize random seed for reproducibility\n",
    "np.random.seed(0)\n",
    "\n",
    "# Generate random temperature data for each city, with temperatures between 20 and 32\n",
    "datos_climaticos = {\n",
    "    \"CDMX\": np.random.randint(20, 33, size=7).tolist(),\n",
    "    \"Monterrey\": np.random.randint(20, 36, size=7).tolist(),\n",
    "    \"Guadalajara\": np.random.randint(20, 35, size=7).tolist(),\n",
    "    \"Merida\": np.random.randint(20, 38, size=7).tolist(),\n",
    "}\n"
   ]
  },
  {
   "cell_type": "code",
   "execution_count": 5,
   "metadata": {},
   "outputs": [],
   "source": [
    "\n",
    "# Calculate the average, maximum, and minimum temperatures for each city\n",
    "resultados = {}\n",
    "for ciudad, temperaturas in datos_climaticos.items():\n",
    "    promedio = sum(temperaturas) / len(temperaturas)\n",
    "    maxima = max(temperaturas)\n",
    "    minima = min(temperaturas)\n",
    "    resultados[ciudad] = {\n",
    "        \"Promedio\": promedio,\n",
    "        \"Maxima\": maxima,\n",
    "        \"Minima\": minima\n",
    "    }\n"
   ]
  },
  {
   "cell_type": "code",
   "execution_count": 6,
   "metadata": {},
   "outputs": [
    {
     "data": {
      "text/plain": [
       "{'CDMX': {'Promedio': 25.857142857142858, 'Maxima': 32, 'Minima': 20},\n",
       " 'Monterrey': {'Promedio': 25.142857142857142, 'Maxima': 29, 'Minima': 22},\n",
       " 'Guadalajara': {'Promedio': 27.428571428571427, 'Maxima': 32, 'Minima': 21},\n",
       " 'Merida': {'Promedio': 31.714285714285715, 'Maxima': 37, 'Minima': 25}}"
      ]
     },
     "execution_count": 6,
     "metadata": {},
     "output_type": "execute_result"
    }
   ],
   "source": [
    "resultados"
   ]
  },
  {
   "cell_type": "code",
   "execution_count": null,
   "metadata": {},
   "outputs": [],
   "source": []
  },
  {
   "cell_type": "markdown",
   "metadata": {},
   "source": [
    "## Ejercicio 2"
   ]
  },
  {
   "cell_type": "markdown",
   "metadata": {},
   "source": []
  },
  {
   "cell_type": "code",
   "execution_count": 14,
   "metadata": {},
   "outputs": [],
   "source": [
    "def calculador_palabras(input):\n",
    "    # Check if input contains any invalid characters (uppercase or non-letters)\n",
    "    for index, str in enumerate(input):\n",
    "        if str.isdigit():\n",
    "            return f\"Cambia el número en la posición {index} por una letra minúscula\"\n",
    "        elif str.isupper():\n",
    "            return f\"Cambia a minúscula la letra '{str}' en la posición {index}.\"\n",
    "    suma = sum(ord(str) - ord('a') + 1 for str in input if str.isalpha())\n",
    "\n",
    "    return f\"The sum of values for the string '{input}' is: {suma}\"\n",
    "\n",
    "\n",
    "\n"
   ]
  },
  {
   "cell_type": "code",
   "execution_count": 15,
   "metadata": {},
   "outputs": [
    {
     "data": {
      "text/plain": [
       "\"The sum of values for the string 'mexico' is: 69\""
      ]
     },
     "execution_count": 15,
     "metadata": {},
     "output_type": "execute_result"
    }
   ],
   "source": [
    "# Test with example input\n",
    "palabra = \"mexico\"\n",
    "resultado = calculador_palabras(palabra)\n",
    "resultado"
   ]
  },
  {
   "cell_type": "code",
   "execution_count": null,
   "metadata": {},
   "outputs": [],
   "source": []
  }
 ],
 "metadata": {
  "kernelspec": {
   "display_name": ".venv",
   "language": "python",
   "name": "python3"
  },
  "language_info": {
   "codemirror_mode": {
    "name": "ipython",
    "version": 3
   },
   "file_extension": ".py",
   "mimetype": "text/x-python",
   "name": "python",
   "nbconvert_exporter": "python",
   "pygments_lexer": "ipython3",
   "version": "3.12.1"
  }
 },
 "nbformat": 4,
 "nbformat_minor": 2
}
